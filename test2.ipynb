{
 "cells": [
  {
   "cell_type": "code",
   "execution_count": 27,
   "metadata": {},
   "outputs": [],
   "source": [
    "from PIL import Image\n",
    "import numpy as np\n",
    "\n",
    "# Load the Lena and Peppers images\n",
    "lena_image = Image.open(r'LenaGrayNoisy.jpg')\n",
    "peppers_image = Image.open(r'PeppersGreyNoisy.jpg')\n",
    "\n",
    "# Display the Lena and Peppers images\n",
    "lena_image.show()\n",
    "peppers_image.show()"
   ]
  },
  {
   "cell_type": "code",
   "execution_count": 28,
   "metadata": {},
   "outputs": [],
   "source": [
    "def windows3 (x,y):\n",
    "    return[(x-1,y-1),(x,y-1),(x+1,y-1),\n",
    "           (x-1,y),(x,y),(x+1,y),\n",
    "           (x-1,y+1),(x,y+1),(x+1,y+1)]"
   ]
  },
  {
   "cell_type": "code",
   "execution_count": 44,
   "metadata": {},
   "outputs": [],
   "source": [
    "for y in range(256):\n",
    "    for x in range(256):\n",
    "        try:\n",
    "            window_cord = windows3(x,y)\n",
    "            windows_val = [lena_image.getpixel(i) for i in window_cord]\n",
    "            lena_image.putpixel((x,y),int(np.median(windows_val)))\n",
    "        except:\n",
    "            lena_image.putpixel((x,y),0)\n",
    "lena_image.show()\n",
    "lena_image.save(\"LenaGrayNoisyRemovedsb.jpg\")\n",
    "for y in range(256):\n",
    "    for x in range(256):\n",
    "        f = 255 - lena_image.getpixel((x,y))\n",
    "        lena_image.putpixel((x,y),f)\n",
    "\n",
    "lena_image.show()\n",
    "lena_image.save(\"LenaGrayNoisyRemovedsbandnegative.jpg\")\n",
    "\n"
   ]
  },
  {
   "cell_type": "code",
   "execution_count": 31,
   "metadata": {},
   "outputs": [],
   "source": [
    "for y in range(256):\n",
    "    for x in range(256):\n",
    "        try:\n",
    "            window_cord = windows3(x,y)\n",
    "            windows_val = [peppers_image.getpixel(i) for i in window_cord]\n",
    "            peppers_image.putpixel((x,y),int(np.median(windows_val)))\n",
    "        except:\n",
    "            peppers_image.putpixel((x,y),0)\n",
    "peppers_image.show()\n",
    "peppers_image.save(\"PepperimageNoisyRemovedsb.jpg\")  \n",
    "for y in range(256):\n",
    "    for x in range(256):\n",
    "        f = 255 - peppers_image.getpixel((x,y))\n",
    "        peppers_image.putpixel((x,y),f)\n",
    "\n",
    "peppers_image.show()\n",
    "peppers_image.save(\"PepperimageNoisyRemovedsbandnegative.jpg\")\n",
    "\n"
   ]
  }
 ],
 "metadata": {
  "kernelspec": {
   "display_name": "Python 3",
   "language": "python",
   "name": "python3"
  },
  "language_info": {
   "codemirror_mode": {
    "name": "ipython",
    "version": 3
   },
   "file_extension": ".py",
   "mimetype": "text/x-python",
   "name": "python",
   "nbconvert_exporter": "python",
   "pygments_lexer": "ipython3",
   "version": "3.11.2"
  },
  "orig_nbformat": 4
 },
 "nbformat": 4,
 "nbformat_minor": 2
}
