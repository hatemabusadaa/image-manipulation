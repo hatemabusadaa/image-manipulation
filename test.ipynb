{
 "cells": [
  {
   "cell_type": "code",
   "execution_count": 6,
   "metadata": {},
   "outputs": [],
   "source": [
    "from PIL import Image\n",
    "\n",
    "# Load the Lena and Peppers images\n",
    "lena_image = Image.open('LenaGray.jpg')\n",
    "peppers_image = Image.open('PeppersGrey.jpg')\n",
    "\n",
    "# Display the Lena and Peppers images\n",
    "lena_image.show()\n",
    "peppers_image.show()\n"
   ]
  },
  {
   "cell_type": "code",
   "execution_count": 39,
   "metadata": {},
   "outputs": [],
   "source": [
    "# Make a new image called J and give it dimensions\n",
    "j_image = Image.new('L', (256, 256))\n",
    "\n",
    "# Copy the upper half of Lena to the upper half of J using nested loops\n",
    "for y in range(256):\n",
    "    for x in range(256):\n",
    "        if y < 128:\n",
    "            pixel = lena_image.getpixel((x, y))\n",
    "            j_image.putpixel((x, y), pixel)\n",
    "        if y >= 128:\n",
    "            pixel = peppers_image.getpixel((x, y))\n",
    "            j_image.putpixel((x, y), pixel)\n",
    "\n",
    "\n",
    "# Display image J\n",
    "j_image.show()\n",
    "j_image.save(\"J_image.jpg\")\n"
   ]
  },
  {
   "cell_type": "code",
   "execution_count": 37,
   "metadata": {},
   "outputs": [],
   "source": [
    "# Create a new image K by swapping the upper and lower halves of J\n",
    "k_image = Image.new('L', (256, 256))\n",
    "\n",
    "# Swap the upper and lower halves of J using nested loops\n",
    "\n",
    "for y in range(256):\n",
    "    for x in range(256):\n",
    "        if y < 128:\n",
    "            pixel = j_image.getpixel((x, y))\n",
    "            k_image.putpixel((x, y+128), pixel)\n",
    "        if y >= 128:\n",
    "            pixel = j_image.getpixel((x, y))\n",
    "            k_image.putpixel((x, y-128), pixel)\n",
    "\n",
    "# Display image K\n",
    "k_image.show()\n",
    "k_image.save(\"K_image.jpg\")"
   ]
  }
 ],
 "metadata": {
  "kernelspec": {
   "display_name": "Python 3",
   "language": "python",
   "name": "python3"
  },
  "language_info": {
   "codemirror_mode": {
    "name": "ipython",
    "version": 3
   },
   "file_extension": ".py",
   "mimetype": "text/x-python",
   "name": "python",
   "nbconvert_exporter": "python",
   "pygments_lexer": "ipython3",
   "version": "3.11.2"
  },
  "orig_nbformat": 4
 },
 "nbformat": 4,
 "nbformat_minor": 2
}
